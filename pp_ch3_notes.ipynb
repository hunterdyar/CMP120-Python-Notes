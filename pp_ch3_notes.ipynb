{
 "cells": [
  {
   "cell_type": "markdown",
   "metadata": {},
   "source": [
    "## Chapter 3 - Designing and Using Functions\n",
    "\n",
    "### In these notes we will cover the following:\n",
    "* Basic concepts and vocabulary related to using functions in python\n",
    "  * *function call*\n",
    "  * *arguments* to a function\n",
    "  * function *parameters*\n",
    "  * function *header*\n",
    "  * function *body*\n",
    "  * function *definition*\n",
    "  * a function's *return value*\n",
    "  * *docstring*\n",
    "  * *type annotations* (also known as *type contract*, *type hints*, and *type signature*)\n",
    "  * when does a function terminate (stop executing)?\n",
    "* The concept of *variable scope* and the related concept of *namespaces*\n",
    "* Intro to some of the built-in functions that python provides\n",
    "  * `abs()`\n",
    "  * `int()`\n",
    "  * `round()`\n",
    "* Review of the `print()` function\n",
    "* Intro to special characters that can be used in text strings\n",
    "* Intro to simultaneous assignment\n",
    "* An example function for making change"
   ]
  },
  {
   "cell_type": "markdown",
   "metadata": {},
   "source": [
    "### Example function definition\n",
    "In the code cell below we *define* a function named `in_to_cm` that takes one input *parameter*, `n`, assumed to be a number of inches, and returns the the number of centimeters equivalent to `n` inches. \n",
    "* The first line of the function definition, `in_to_cm(n)` is called the *function header*. \n",
    "* The text in triple quotes below the function header is called the *docstring*. \n",
    "* The indented code below the function header and docstring is called the function body. In this case it is just one line of code. \n",
    "* The `return` statement defines the value that the function *returns*. \n",
    "\n",
    "Note that this function definition only defines the function; the function doesn't execute until it is *called*."
   ]
  },
  {
   "cell_type": "code",
   "execution_count": null,
   "metadata": {},
   "outputs": [],
   "source": [
    "def in_to_cm(n):\n",
    "    \"\"\" Converts n inches to centimeters and returns the \n",
    "    number of centimeters.\"\"\"\n",
    "    return n * 2.54"
   ]
  },
  {
   "cell_type": "markdown",
   "metadata": {},
   "source": [
    "Note that once a function is defined it is visible to the `help()` function, and the docstring shows up when help is called with that function as its argument."
   ]
  },
  {
   "cell_type": "code",
   "execution_count": null,
   "metadata": {},
   "outputs": [],
   "source": [
    "help(in_to_cm)"
   ]
  },
  {
   "cell_type": "markdown",
   "metadata": {},
   "source": [
    "### Example function call\n",
    "Here we *call* or *execute* the function with an *argument*. The argument is the specific input value that the function will use as it executes. So, the argument `3.4` is assigned to the parameter `n` and the function runs, returning the value of `3.4 * 2.54`. In a nutshell, when we call a function it evaluates to its return value."
   ]
  },
  {
   "cell_type": "code",
   "execution_count": null,
   "metadata": {},
   "outputs": [],
   "source": [
    "in_to_cm(3.4)"
   ]
  },
  {
   "cell_type": "markdown",
   "metadata": {},
   "source": [
    "### Example function definition with type annotations and expected return values\n",
    "We can add hints to our function header that indicate the python type of the parameters and the type of the return value. These hints are called *type annotations*. Note that they are not required or enforced in python, but they can make your code more clear, and they are used by some programming tools."
   ]
  },
  {
   "cell_type": "code",
   "execution_count": null,
   "metadata": {},
   "outputs": [],
   "source": [
    "def in_to_cm(n: float) -> float:\n",
    "    \"\"\" Converts n inches to centimeters and returns the \n",
    "    number of centimeters.\n",
    "    \n",
    "    >>> in_to_cm(5)\n",
    "    12.7\n",
    "    >> in_to_cm(3.4)\n",
    "    8.636\n",
    "    \"\"\"\n",
    "    return n * 2.54"
   ]
  },
  {
   "cell_type": "code",
   "execution_count": null,
   "metadata": {},
   "outputs": [],
   "source": [
    "help(in_to_cm)"
   ]
  },
  {
   "cell_type": "markdown",
   "metadata": {},
   "source": [
    "### When does a function terminate?\n",
    "When a function is called it finishes executing when it encounters a `return` statement, even if there are statements or expressions in the function body after the `return` statement. \n",
    "\n",
    "If there is no `return` statement the function finishes executing when the end of the function body is reached, and it returns the special value `None`."
   ]
  },
  {
   "cell_type": "code",
   "execution_count": null,
   "metadata": {},
   "outputs": [],
   "source": [
    "def high_five():\n",
    "    \"\"\"Silly function that provides some encouraging phrases, and then\n",
    "    returns the integer 5.\"\"\"\n",
    "    print(\"Way to go!\")\n",
    "    print(\"Great job!\")\n",
    "    print(\"Here's a high 5!\")\n",
    "    return 5\n",
    "    print(\"Goblins Schmoblins!\")\n",
    "    print(\"The rain in Spain falls mainly on the plain.\")\n",
    "    \n",
    "my_number = high_five()"
   ]
  },
  {
   "cell_type": "code",
   "execution_count": null,
   "metadata": {},
   "outputs": [],
   "source": [
    "my_number"
   ]
  },
  {
   "cell_type": "markdown",
   "metadata": {},
   "source": [
    "Note that print statements within a function body cause statements to be printed, but they do not effect the return value. The prints are called *side effects* of the function. A function can have both side effects and a return value.\n",
    "\n",
    "Note also that if a function doesn't have an explicit `return` statement the function will return the special value `None`."
   ]
  },
  {
   "cell_type": "code",
   "execution_count": null,
   "metadata": {},
   "outputs": [],
   "source": [
    "def do_nothing():\n",
    "    print(\"Here I am, doing nothing!\")\n",
    "    print(\"I'm still doing nothing\",\n",
    "          \"(except for telling you that I'm doing nothing...)\")"
   ]
  },
  {
   "cell_type": "code",
   "execution_count": null,
   "metadata": {},
   "outputs": [],
   "source": [
    "print(\"\\nThe value of var2 is:\", var2)"
   ]
  },
  {
   "cell_type": "code",
   "execution_count": null,
   "metadata": {},
   "outputs": [],
   "source": [
    "var2 = do_nothing()"
   ]
  },
  {
   "cell_type": "code",
   "execution_count": null,
   "metadata": {},
   "outputs": [],
   "source": [
    "print(\"\\nThe value of var2 is:\", var2)"
   ]
  },
  {
   "cell_type": "markdown",
   "metadata": {},
   "source": [
    "### Variable scope\n",
    "When a function runs, the function's parameters and any variables that are defined within the body of the function are only available to that function, and do not conflict with variable names in the environment that contains the function call. We say that these variables have *function scope* or *local function scope*. Study the following example."
   ]
  },
  {
   "cell_type": "code",
   "execution_count": null,
   "metadata": {},
   "outputs": [],
   "source": [
    "in_to_cm(55)\n",
    "\n",
    "print(n)"
   ]
  },
  {
   "cell_type": "code",
   "execution_count": null,
   "metadata": {},
   "outputs": [],
   "source": [
    "n = \"How's the cow?\"\n",
    "print(n)"
   ]
  },
  {
   "cell_type": "code",
   "execution_count": null,
   "metadata": {},
   "outputs": [],
   "source": [
    "print(\"in_to_cm(9) is:\", in_to_cm(9))"
   ]
  },
  {
   "cell_type": "code",
   "execution_count": null,
   "metadata": {},
   "outputs": [],
   "source": [
    "print(n)"
   ]
  },
  {
   "cell_type": "markdown",
   "metadata": {},
   "source": [
    "### Namespaces and Scope\n",
    "Let's explain this concept of scope in more detail. In python namespaces are containers for mapping names to objects. The mapping allows us to access an object, such as an integer, a string or a function, by the name that has been assigned to it. Now, the tricky part is that we have multiple independent namespaces in Python, and names can be reused for different namespaces (only the objects to which the names refer are unique). The namespaces are structured in a certain hierarchy, which brings us to the concept of *scope*. The scope in Python defines the hierarchy level in which we search namespaces for name-to-object mappings. Python searches for names in the following order:\n",
    "* first in the most local namespace that is running (typically a function) \n",
    "* then moves outward to the next namespace, typically the global namespace (where the main program is running)\n",
    "* then to the namespace for builtin functions  \n",
    "\n",
    "So, if a function is executing, function's namespace is the first namespace searched. If the name is not found there the calling environment, which is usually the global environment, is searched. If the name is not found then the built-ins are searched next.\n",
    "\n",
    "**Let's look at some more examples to help illustrate these concepts**"
   ]
  },
  {
   "cell_type": "code",
   "execution_count": null,
   "metadata": {},
   "outputs": [],
   "source": [
    "var1 = \"Never eat yellow snow!\"\n",
    "\n",
    "print(var1)"
   ]
  },
  {
   "cell_type": "code",
   "execution_count": null,
   "metadata": {},
   "outputs": [],
   "source": [
    "def square_it(var1):\n",
    "    \"Returns var1 squared\"\n",
    "    print(\"Inside square_it function var1 is:\", var1)\n",
    "    return var1 ** 2\n",
    "\n",
    "square_it(5)"
   ]
  },
  {
   "cell_type": "code",
   "execution_count": null,
   "metadata": {},
   "outputs": [],
   "source": [
    "square_it(7)"
   ]
  },
  {
   "cell_type": "code",
   "execution_count": null,
   "metadata": {},
   "outputs": [],
   "source": [
    "print(var1)"
   ]
  },
  {
   "cell_type": "markdown",
   "metadata": {},
   "source": [
    "### A few more python built-in functions\n",
    "* `abs()` returns the absolute value of its input\n",
    "* `int()` changes its input to an integer. Note that it will truncate, not round, its input\n",
    "* `round()` may be used to round to a specified number of significant digits"
   ]
  },
  {
   "cell_type": "code",
   "execution_count": null,
   "metadata": {},
   "outputs": [],
   "source": [
    "abs(-7)"
   ]
  },
  {
   "cell_type": "code",
   "execution_count": null,
   "metadata": {},
   "outputs": [],
   "source": [
    "abs(21)"
   ]
  },
  {
   "cell_type": "code",
   "execution_count": null,
   "metadata": {},
   "outputs": [],
   "source": [
    "int(5.23)"
   ]
  },
  {
   "cell_type": "code",
   "execution_count": null,
   "metadata": {},
   "outputs": [],
   "source": [
    "int(7.99999)"
   ]
  },
  {
   "cell_type": "code",
   "execution_count": null,
   "metadata": {},
   "outputs": [],
   "source": [
    "round(7.9834543, 2)"
   ]
  },
  {
   "cell_type": "code",
   "execution_count": null,
   "metadata": {},
   "outputs": [],
   "source": [
    "round(57621, -2)"
   ]
  },
  {
   "cell_type": "markdown",
   "metadata": {},
   "source": [
    "### Review of the `print()` function"
   ]
  },
  {
   "cell_type": "code",
   "execution_count": null,
   "metadata": {},
   "outputs": [],
   "source": [
    "help(print)"
   ]
  },
  {
   "cell_type": "markdown",
   "metadata": {},
   "source": [
    "**Recall that the `sep=' '` parameter indicates what is printed between the objects that are printed in the print statement. It defaults to a space. The `end='\\n'` parameter indicates what is printed after the last object that the print statement prints. It defaults to the newline character `\\n`. As an illustration of these two parameters, study the code below:**"
   ]
  },
  {
   "cell_type": "code",
   "execution_count": null,
   "metadata": {},
   "outputs": [],
   "source": [
    "print(\"First\", \"print\", \"function\")"
   ]
  },
  {
   "cell_type": "code",
   "execution_count": null,
   "metadata": {},
   "outputs": [],
   "source": [
    "print(\"Second\", \"print\", \"function\", sep='SEP', end='END')"
   ]
  },
  {
   "cell_type": "code",
   "execution_count": null,
   "metadata": {},
   "outputs": [],
   "source": [
    "print(\"Third\", \"print\", \"function\", sep='          ', end='\\n\\n\\n')\n",
    "print(\"Fourth\", \"print\", \"function\")"
   ]
  },
  {
   "cell_type": "markdown",
   "metadata": {},
   "source": [
    "**Special characters can be represented by a backslash followed by another character. These special two-character sequences represent one character and are called \"escape sequences.\"**\n",
    "* `\\n` represents a newline character.\n",
    "* `\\t` represents the tab character.\n",
    "* `\\\\` represents the backslash character\n",
    "* `\\\"` represents the double quote character\n",
    "* `\\'` represents the single quote character\n",
    "\n",
    "**Let's see some examples:**"
   ]
  },
  {
   "cell_type": "code",
   "execution_count": null,
   "metadata": {},
   "outputs": [],
   "source": [
    "# Print a multi-line string\n",
    "print(\"Oh, say, can you see\\nby the dawn's early light\\nwhat so proudly we hailed...\")"
   ]
  },
  {
   "cell_type": "code",
   "execution_count": null,
   "metadata": {},
   "outputs": [],
   "source": [
    "# Using tabs to align output\n",
    "print(\"an\\tauf\\thinter\\tin\\nunter\\tuber\\tneben\\tvor\\tzwischen\")"
   ]
  },
  {
   "cell_type": "code",
   "execution_count": null,
   "metadata": {},
   "outputs": [],
   "source": [
    "# Printing a literal backslash character and double quotes\n",
    "print(\"The file named \\\"config.txt\\\" can be found in \\\\etc\\\\ssh\",\n",
    "      \"on a unix system.\")"
   ]
  },
  {
   "cell_type": "markdown",
   "metadata": {},
   "source": [
    "### Simultaneous assignment\n",
    "In Python we can do something called \"simultaneous assignment,\" which means assigning multiple values to multiple variables at the same time. Below are some examples."
   ]
  },
  {
   "cell_type": "code",
   "execution_count": null,
   "metadata": {},
   "outputs": [],
   "source": [
    "# Simple example of simultaneous assignment\n",
    "noun1, number, noun2 = \"cat\", 2, \"frog\""
   ]
  },
  {
   "cell_type": "code",
   "execution_count": null,
   "metadata": {},
   "outputs": [],
   "source": [
    "print(\"The\", noun1, \"kissed the\", noun2, number, \"times.\")"
   ]
  },
  {
   "cell_type": "markdown",
   "metadata": {},
   "source": [
    "### A function can return multiple values"
   ]
  },
  {
   "cell_type": "code",
   "execution_count": null,
   "metadata": {},
   "outputs": [],
   "source": [
    "# An example of a function returning multiple values\n",
    "def give_me_3():\n",
    "    return 1, 2, 3"
   ]
  },
  {
   "cell_type": "markdown",
   "metadata": {},
   "source": [
    "#### We can assign the multiple return values with simultaneous assignment"
   ]
  },
  {
   "cell_type": "code",
   "execution_count": null,
   "metadata": {},
   "outputs": [],
   "source": [
    "a, b, c = give_me_3()\n",
    "print(a)\n",
    "print(b)\n",
    "print(c)"
   ]
  },
  {
   "cell_type": "markdown",
   "metadata": {},
   "source": [
    "#### Let's see simultaneous assignment in action by creating a function to make change"
   ]
  },
  {
   "cell_type": "code",
   "execution_count": null,
   "metadata": {},
   "outputs": [],
   "source": [
    "# Define function to take in cents and return number of quarters, dimes,\n",
    "# and pennies that can be used to make that number of cents.\n",
    "def make_change_td(cents):\n",
    "    \"\"\" Takes an amount in cents and returns the number of quarters,\n",
    "    dimes, nickels, and pennies that can be used to make that number\n",
    "    of cents. Works top-down. First applies as many quarters as possible,\n",
    "    then as many dimes as possible to the remaining cents, et cetera.\n",
    "    \n",
    "    Parameters:\n",
    "    cents --> The number of cents for which to make change\n",
    "    \n",
    "    >>> make_change_td(99)\n",
    "    (3, 2, 0, 4)\n",
    "    \n",
    "    >>> make_change_td(12)\n",
    "    (0, 1, 0, 2)\n",
    "    \"\"\"\n",
    "    quarters = cents // 25\n",
    "    cents_left = cents % 25\n",
    "    dimes = cents_left // 10\n",
    "    cents_left = cents_left % 10\n",
    "    nickels = cents_left // 5\n",
    "    cents = cents_left % 5\n",
    "    return quarters, dimes, nickels, cents"
   ]
  },
  {
   "cell_type": "code",
   "execution_count": null,
   "metadata": {},
   "outputs": [],
   "source": [
    "# Test the function\n",
    "x = 68\n",
    "q, d, n, p = make_change_td(x)\n",
    "\n",
    "print(x, \"cents of change can be made with the following:\\nQuarters:\\t\",\n",
    "      q, \"\\nDimes:\\t\\t\", d, \"\\nNickels:\\t\", n, \"\\nPennies:\\t\", p)"
   ]
  },
  {
   "cell_type": "code",
   "execution_count": null,
   "metadata": {},
   "outputs": [],
   "source": []
  }
 ],
 "metadata": {
  "kernelspec": {
   "display_name": "Python 3 (ipykernel)",
   "language": "python",
   "name": "python3"
  },
  "language_info": {
   "codemirror_mode": {
    "name": "ipython",
    "version": 3
   },
   "file_extension": ".py",
   "mimetype": "text/x-python",
   "name": "python",
   "nbconvert_exporter": "python",
   "pygments_lexer": "ipython3",
   "version": "3.10.4"
  }
 },
 "nbformat": 4,
 "nbformat_minor": 2
}
